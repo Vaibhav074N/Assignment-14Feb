{
  "nbformat": 4,
  "nbformat_minor": 0,
  "metadata": {
    "colab": {
      "provenance": [],
      "authorship_tag": "ABX9TyMZwVceYLIzZv7poCWsjFyv",
      "include_colab_link": true
    },
    "kernelspec": {
      "name": "python3",
      "display_name": "Python 3"
    },
    "language_info": {
      "name": "python"
    }
  },
  "cells": [
    {
      "cell_type": "markdown",
      "metadata": {
        "id": "view-in-github",
        "colab_type": "text"
      },
      "source": [
        "<a href=\"https://colab.research.google.com/github/Vaibhav074N/Assignment-14Feb/blob/main/Assignment_14Feb.ipynb\" target=\"_parent\"><img src=\"https://colab.research.google.com/assets/colab-badge.svg\" alt=\"Open In Colab\"/></a>"
      ]
    },
    {
      "cell_type": "markdown",
      "source": [
        "#####Q1.\n",
        "#####Ans: A process of running multiple threads simultaneously within a single process.We use multithreading to improve the performance of a program by using multiple CPUs or CPU cores.The built-in threading module is used to handle threads in Python. This module provides a simple and easy-to-use interface for creating and managing threads."
      ],
      "metadata": {
        "id": "fMSdePLZ_TRk"
      }
    },
    {
      "cell_type": "code",
      "execution_count": 1,
      "metadata": {
        "colab": {
          "base_uri": "https://localhost:8080/"
        },
        "id": "_Mo9drWQ_R2D",
        "outputId": "84582e40-0867-4996-c4c9-f4fbd53c80e2"
      },
      "outputs": [
        {
          "output_type": "stream",
          "name": "stdout",
          "text": [
            "[<Thread(Thread-11, initial)>, <Thread(Thread-12, initial)>, <Thread(Thread-13, initial)>]\n",
            "this is my test id 101\n",
            "this is my test id 59\n",
            "this is my test id 11\n"
          ]
        }
      ],
      "source": [
        "import threading\n",
        "\n",
        "def test(id):\n",
        "    print(\"this is my test id %d\" %id)\n",
        "\n",
        "thread=[threading.Thread(target=test,args=(i,))for i in [101,59,11]]\n",
        "print(thread)\n",
        "for t in thread:\n",
        "    t.start()"
      ]
    },
    {
      "cell_type": "markdown",
      "source": [
        "#####Q2.\n",
        "#####Ans: The threading module is used in Python for creating and managing threads. It provides an easy-to-use and powerful interface for creating concurrent programs. The threading module is commonly used in applications where tasks can be performed concurrently, such as network programming, GUI applications, and data processing."
      ],
      "metadata": {
        "id": "nOkkkvbtDuLG"
      }
    },
    {
      "cell_type": "code",
      "source": [
        "# activeCount() :- This function returns the number of active threads in the current thread's thread pool.It is used to determine how many threads are currently executing in a program.\n"
      ],
      "metadata": {
        "id": "Njw1E1CbFu3B"
      },
      "execution_count": null,
      "outputs": []
    },
    {
      "cell_type": "code",
      "source": [
        "# currentThread() :- This function returns the current thread object. It is used to obtain information about the currently executing thread.\n"
      ],
      "metadata": {
        "id": "H0rmPC8_GWkc"
      },
      "execution_count": null,
      "outputs": []
    },
    {
      "cell_type": "code",
      "source": [
        "# enumerate() :- This function returns a list of all thread objects that are currently active. It is used to obtain information about all the threads that are currently executing in a program.\n",
        "\n"
      ],
      "metadata": {
        "id": "2Rcjk3jbGkTa"
      },
      "execution_count": null,
      "outputs": []
    },
    {
      "cell_type": "markdown",
      "source": [
        "#####Q3.\n",
        "#####Ans: \n",
        "##### (1) run() : his is the method that represents the thread's activity or task. When a thread is started, the run() method is called automatically. You can override the run() method to define the code that will be executed in the thread.\n",
        "##### (2) start() : This method starts a new thread by calling the run() method. It does not block the main thread and returns immediately after starting the new thread.\n",
        "\n",
        "##### (3) join() : This method blocks the main thread until the thread on which it is called completes. If you call join() on a thread, the main thread will not continue until the thread finishes its work.\n",
        "\n",
        "##### (4) isAlive() : This method returns True if the thread is still running and False if the thread has completed its task or has been terminated.\n",
        "\n",
        "\n"
      ],
      "metadata": {
        "id": "GgbjD5JuG4wL"
      }
    },
    {
      "cell_type": "markdown",
      "source": [
        "#####Q4."
      ],
      "metadata": {
        "id": "e8aCpX7TJffW"
      }
    },
    {
      "cell_type": "code",
      "source": [
        "import threading\n",
        "\n",
        "def squares():\n",
        "    for i in range(1, 11):\n",
        "        print(f\"Square of {i} is {i*i}\")\n",
        "\n",
        "def cubes():\n",
        "    for i in range(1, 11):\n",
        "        print(f\"Cube of {i} is {i*i*i}\")\n",
        "\n",
        "t1 = threading.Thread(target=squares)\n",
        "t2 = threading.Thread(target=cubes)\n",
        "t1.start()\n",
        "t2.start()\n"
      ],
      "metadata": {
        "colab": {
          "base_uri": "https://localhost:8080/"
        },
        "id": "uVWdbWSKJPxk",
        "outputId": "acd4455b-b331-4369-9a4f-8ef91c4af8cb"
      },
      "execution_count": 7,
      "outputs": [
        {
          "output_type": "stream",
          "name": "stdout",
          "text": [
            "Square of 1 is 1\n",
            "Square of 2 is 4\n",
            "Square of 3 is 9\n",
            "Square of 4 is 16\n",
            "Square of 5 is 25\n",
            "Square of 6 is 36\n",
            "Square of 7 is 49\n",
            "Square of 8 is 64\n",
            "Square of 9 is 81\n",
            "Square of 10 is 100\n",
            "Cube of 1 is 1\n",
            "Cube of 2 is 8\n",
            "Cube of 3 is 27\n",
            "Cube of 4 is 64\n",
            "Cube of 5 is 125\n",
            "Cube of 6 is 216\n",
            "Cube of 7 is 343\n",
            "Cube of 8 is 512\n",
            "Cube of 9 is 729\n",
            "Cube of 10 is 1000\n"
          ]
        }
      ]
    },
    {
      "cell_type": "markdown",
      "source": [
        "#####Q5.\n",
        "#####Ans:\n",
        "#####Advantages:- Increased performance , Resource sharing ,Improved responsiveness\n",
        "#####Disadvantages:- Increased complexity , Race conditions , Overhead ,Deadlocks"
      ],
      "metadata": {
        "id": "fDqBUjsjJlwO"
      }
    },
    {
      "cell_type": "code",
      "source": [],
      "metadata": {
        "id": "j6X0fYhSKRa8"
      },
      "execution_count": null,
      "outputs": []
    },
    {
      "cell_type": "markdown",
      "source": [
        "#####Q6.\n",
        "#####Ans:\n",
        "##### Race conditions: Multithreading can introduce race conditions, which occur when multiple threads access shared resources simultaneously and produce unexpected results.\n",
        "##### Deadlocks: Multithreading can lead to deadlocks, which occur when two or more threads are blocked, waiting for each other to release a shared resource."
      ],
      "metadata": {
        "id": "tMVym59NKclk"
      }
    },
    {
      "cell_type": "code",
      "source": [],
      "metadata": {
        "id": "qsYajX5tKr6O"
      },
      "execution_count": null,
      "outputs": []
    }
  ]
}